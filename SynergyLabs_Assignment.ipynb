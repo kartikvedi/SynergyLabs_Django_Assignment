{
 "cells": [
  {
   "cell_type": "markdown",
   "id": "b349fcb9",
   "metadata": {},
   "source": [
    "1.Write a program to print all the possible unique combinations of characters in a given string.\n",
    "i.e TRUE, RTUE, EUTR, UTRE………………………………….\n"
   ]
  },
  {
   "cell_type": "code",
   "execution_count": 1,
   "id": "1abf3616",
   "metadata": {},
   "outputs": [
    {
     "name": "stdout",
     "output_type": "stream",
     "text": [
      "TRUE\n",
      "TREU\n",
      "TURE\n",
      "TUER\n",
      "TEUR\n",
      "TERU\n",
      "RTUE\n",
      "RTEU\n",
      "RUTE\n",
      "RUET\n",
      "REUT\n",
      "RETU\n",
      "URTE\n",
      "URET\n",
      "UTRE\n",
      "UTER\n",
      "UETR\n",
      "UERT\n",
      "ERUT\n",
      "ERTU\n",
      "EURT\n",
      "EUTR\n",
      "ETUR\n",
      "ETRU\n"
     ]
    }
   ],
   "source": [
    "# Python program to print all permutations\n",
    "# with duplicates allowed\n",
    "def toString(List):\n",
    "    return ''.join(List)\n",
    " \n",
    "# Function to print permutations\n",
    "# of string\n",
    "# This function takes three parameters:\n",
    "# 1. String\n",
    "# 2. Starting index of the string\n",
    "# 3. Ending index of the string.\n",
    "def permute(a, l, r):\n",
    "    if l == r:\n",
    "        print (toString(a))\n",
    "    else:\n",
    "        for i in range(l, r + 1):\n",
    "            a[l], a[i] = a[i], a[l]\n",
    "            permute(a, l + 1, r)\n",
    " \n",
    "            # backtrack\n",
    "            a[l], a[i] = a[i], a[l]\n",
    " \n",
    "# Driver code\n",
    "string = \"TRUE\"\n",
    "n = len(string)\n",
    "a = list(string)\n",
    "permute(a, 0, n-1)"
   ]
  },
  {
   "cell_type": "markdown",
   "id": "b525c4e9",
   "metadata": {},
   "source": [
    "2. Write a program to convert any integer number between 1 to 500 in to Roman Expression.\n",
    "I, II, III, IV,V,VI,VII,VIII,IX,X50-L, 100-C, 500-D\n"
   ]
  },
  {
   "cell_type": "code",
   "execution_count": 4,
   "id": "b9a83dd9",
   "metadata": {},
   "outputs": [
    {
     "name": "stdout",
     "output_type": "stream",
     "text": [
      "Roman value is: CCCL"
     ]
    }
   ],
   "source": [
    "def printRoman(number):\n",
    "    num = [1, 4, 5, 9, 10, 40, 50, 90,\n",
    "        100, 400, 500, 900, 1000]\n",
    "    sym = [\"I\", \"IV\", \"V\", \"IX\", \"X\", \"XL\",\n",
    "        \"L\", \"XC\", \"C\", \"CD\", \"D\", \"CM\", \"M\"]\n",
    "    i = 12\n",
    "      \n",
    "    while number:\n",
    "        div = number // num[i]\n",
    "        number %= num[i]\n",
    "  \n",
    "        while div:\n",
    "            print(sym[i], end = \"\")\n",
    "            div -= 1\n",
    "        i -= 1\n",
    "  \n",
    "# Driver code\n",
    "if __name__ == \"__main__\":\n",
    "    number = 350\n",
    "    print(\"Roman value is:\", end = \" \")\n",
    "    printRoman(number)"
   ]
  },
  {
   "cell_type": "markdown",
   "id": "a8e9672b",
   "metadata": {},
   "source": [
    "3.Write a program to evaluate a expression using BODMASS approach.i.e. string expression=”2+(5*(2-2))”"
   ]
  },
  {
   "cell_type": "code",
   "execution_count": 5,
   "id": "a1c23358",
   "metadata": {},
   "outputs": [
    {
     "name": "stdout",
     "output_type": "stream",
     "text": [
      "-2\n"
     ]
    }
   ],
   "source": [
    "from math import floor, trunc\n",
    "class Solution:\n",
    "   def solve(self, s):\n",
    "      s = list(s[::-1])\n",
    "\n",
    "      def get_value():\n",
    "         sign = 1\n",
    "         if s and s[-1] == \"-\":\n",
    "            s.pop()\n",
    "            sign = -1\n",
    "         value = 0\n",
    "         while s and s[-1].isdigit():\n",
    "            value *= 10\n",
    "            value += int(s.pop())\n",
    "         return sign * value\n",
    "\n",
    "      def get_term():\n",
    "         term = get_value()\n",
    "         while s and s[-1] in \"*/\":\n",
    "            op = s.pop()\n",
    "            value = get_value()\n",
    "            if op == \"*\":\n",
    "               term *= value\n",
    "            else:\n",
    "               term = floor(1.0 * term / value)\n",
    "         return term\n",
    "\n",
    "      ans = get_term()\n",
    "      while s:\n",
    "         op, term = s.pop(), get_term()\n",
    "         if op == \"+\":\n",
    "            ans += term\n",
    "         else:\n",
    "            ans -= term\n",
    "      return ans\n",
    "\n",
    "ob = Solution()\n",
    "s = \"2+(5*(2-2))\"\n",
    "print(ob.solve(s))"
   ]
  },
  {
   "cell_type": "markdown",
   "id": "3918a696",
   "metadata": {},
   "source": [
    "4. Given the list ;\n",
    "\tA = [12,3,5,7,3,5,7,8]\n",
    "\tB= [4,2,6,7,3,4,6,3,8]\n",
    "\tFind the common elements in the following list"
   ]
  },
  {
   "cell_type": "code",
   "execution_count": 7,
   "id": "9c8bf0f6",
   "metadata": {},
   "outputs": [
    {
     "name": "stdout",
     "output_type": "stream",
     "text": [
      "{8, 3, 7}\n"
     ]
    }
   ],
   "source": [
    "def common_member(a, b):\n",
    "    a_set = set(a)\n",
    "    b_set = set(b)\n",
    " \n",
    "    if (a_set & b_set):\n",
    "        print(a_set & b_set)\n",
    "    else:\n",
    "        print(\"No common elements\")\n",
    "\n",
    "a = [12,3,5,7,3,5,7,8]\n",
    "b = [4,2,6,7,3,4,6,3,8]\n",
    "common_member(a, b)"
   ]
  },
  {
   "cell_type": "markdown",
   "id": "ebe8c664",
   "metadata": {},
   "source": [
    " 5.Given the list ;\n",
    "\t\tA=[1,3,6,8,4,7]\n",
    "\tFind out prime numbers ?\n"
   ]
  },
  {
   "cell_type": "code",
   "execution_count": 18,
   "id": "0c41c16a",
   "metadata": {},
   "outputs": [
    {
     "name": "stdout",
     "output_type": "stream",
     "text": [
      "[3, 7]\n"
     ]
    }
   ],
   "source": [
    "A=[1,3,6,8,4,7]\n",
    "prime=[]\n",
    "for i in A:\n",
    "    c=0\n",
    "    for j in range(1,i):\n",
    "        if i%j==0:\n",
    "            c+=1\n",
    "    if c==1:\n",
    "        prime.append(i)\n",
    "print(prime)"
   ]
  },
  {
   "cell_type": "code",
   "execution_count": null,
   "id": "2bd8189a",
   "metadata": {},
   "outputs": [],
   "source": []
  }
 ],
 "metadata": {
  "kernelspec": {
   "display_name": "Python 3 (ipykernel)",
   "language": "python",
   "name": "python3"
  },
  "language_info": {
   "codemirror_mode": {
    "name": "ipython",
    "version": 3
   },
   "file_extension": ".py",
   "mimetype": "text/x-python",
   "name": "python",
   "nbconvert_exporter": "python",
   "pygments_lexer": "ipython3",
   "version": "3.9.9"
  },
  "toc": {
   "base_numbering": 1,
   "nav_menu": {},
   "number_sections": true,
   "sideBar": true,
   "skip_h1_title": false,
   "title_cell": "Table of Contents",
   "title_sidebar": "Contents",
   "toc_cell": false,
   "toc_position": {},
   "toc_section_display": true,
   "toc_window_display": false
  },
  "varInspector": {
   "cols": {
    "lenName": 16,
    "lenType": 16,
    "lenVar": 40
   },
   "kernels_config": {
    "python": {
     "delete_cmd_postfix": "",
     "delete_cmd_prefix": "del ",
     "library": "var_list.py",
     "varRefreshCmd": "print(var_dic_list())"
    },
    "r": {
     "delete_cmd_postfix": ") ",
     "delete_cmd_prefix": "rm(",
     "library": "var_list.r",
     "varRefreshCmd": "cat(var_dic_list()) "
    }
   },
   "types_to_exclude": [
    "module",
    "function",
    "builtin_function_or_method",
    "instance",
    "_Feature"
   ],
   "window_display": false
  }
 },
 "nbformat": 4,
 "nbformat_minor": 5
}
